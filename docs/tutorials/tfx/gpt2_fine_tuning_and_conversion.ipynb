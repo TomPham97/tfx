{
  "cells": [
    {
      "cell_type": "markdown",
      "metadata": {
        "id": "YtDTm6wbIbpy"
      },
      "source": [
        "Copyright 2023 The TensorFlow Authors."
      ]
    },
    {
      "cell_type": "code",
      "execution_count": null,
      "metadata": {
        "id": "kBFkQLk1In7I"
      },
      "outputs": [],
      "source": [
        "# Licensed under the Apache License, Version 2.0 (the \"License\");\n",
        "# you may not use this file except in compliance with the License.\n",
        "# You may obtain a copy of the License at\n",
        "#\n",
        "# https://www.apache.org/licenses/LICENSE-2.0\n",
        "#\n",
        "# Unless required by applicable law or agreed to in writing, software\n",
        "# distributed under the License is distributed on an \"AS IS\" BASIS,\n",
        "# WITHOUT WARRANTIES OR CONDITIONS OF ANY KIND, either express or implied.\n",
        "# See the License for the specific language governing permissions and\n",
        "# limitations under the License."
      ]
    },
    {
      "cell_type": "markdown",
      "metadata": {
        "id": "uf3QpfdiIl7O"
      },
      "source": [
        "# TFX Pipeline for Fine-Tuning and Converting an Large Language Model (LLM)\n",
        "\n",
        "In this codelab, we use  KerasNLP to load a pre-trained Large Language Model (LLM) - GPT-2 model - and finetune it to a dataset. The dataset that is used in this demo is CNN daily dataset. After producing a finetuned model, the pipeline converts the model into a TFLite model, a machine learning model that has been converted into a format that can be run on mobile devices, and a quantized TFLite model, which is a more efficient version of a TFLite model as it represents the model's weights and activations using fewer bits.\n",
        "\n",
        "## Why Is Pipeline Useful?\n",
        "TFX pipelines are a valuable tool for building and managing machine learning workflows in a production environment. They are more reproducible, scalable, and modular than simply running pure Python code. This makes them ideal for working with large language models, which require a lot of compute resources and can be difficult to debug. TFX pipelines can also help you automate the finetuning and conversion process, which can save you a lot of time and effort.  \n",
        "\n",
        "In addition to the benefits mentioned above, TFX pipelines can also help you track the lineage of your data and models using metadata. This means that you can easily see how your data and models were created and how they relate to each other. This can be helpful for debugging, auditing, and understanding the performance of your models.\n",
        "\n",
        "## Note\n",
        "Note that GPT-2 is used here only to demonstrate the end-to-end process; the techniques and tooling introduced in this codelab are potentially transferrable to other generative language models such as Google T5."
      ]
    },
    {
      "cell_type": "markdown",
      "metadata": {
        "id": "HU9YYythm0dx"
      },
      "source": [
        "Note: We recommend running this tutorial in a Colab notebook, with no setup required!  Just click \"Run in Google Colab\".\n",
        "\n",
        "\u003cdiv class=\"devsite-table-wrapper\"\u003e\u003ctable class=\"tfo-notebook-buttons\" align=\"left\"\u003e\n",
        "\u003ctd\u003e\u003ca target=\"_blank\" href=\"https://www.tensorflow.org/tfx/tutorials/tfx/gpt2_fine_tuning_and_conversion\"\u003e\n",
        "\u003cimg src=\"https://www.tensorflow.org/images/tf_logo_32px.png\"/\u003eView on TensorFlow.org\u003c/a\u003e\u003c/td\u003e\n",
        "\u003ctd\u003e\u003ca target=\"_blank\" href=\"https://colab.research.google.com/github/tensorflow/tfx/blob/master/docs/tutorials/tfx/gpt2_fine_tuning_and_conversion.ipynb\"\u003e\n",
        "\u003cimg src=\"https://www.tensorflow.org/images/colab_logo_32px.png\"\u003eRun in Google Colab\u003c/a\u003e\u003c/td\u003e\n",
        "\u003ctd\u003e\u003ca target=\"_blank\" href=\"https://github.com/tensorflow/tfx/tree/master/docs/tutorials/tfx/gpt2_fine_tuning_and_conversion.ipynb\"\u003e\n",
        "\u003cimg width=32px src=\"https://www.tensorflow.org/images/GitHub-Mark-32px.png\"\u003eView source on GitHub\u003c/a\u003e\u003c/td\u003e\n",
        "\u003ctd\u003e\u003ca href=\"https://storage.googleapis.com/tensorflow_docs/tfx/docs/tutorials/tfx/gpt2_fine_tuning_and_conversion.ipynb\"\u003e\u003cimg src=\"https://www.tensorflow.org/images/download_logo_32px.png\" /\u003eDownload notebook\u003c/a\u003e\u003c/td\u003e\n",
        "\u003c/table\u003e\u003c/div\u003e"
      ]
    },
    {
      "cell_type": "markdown",
      "metadata": {
        "id": "2WgJ8Z8gJB0s"
      },
      "source": [
        "# Before You Begin\n",
        "\n",
        "Colab offers different kinds of runtimes. Make sure to go to **Runtime -\u003e Change runtime** type and choose the GPU Hardware Accelerator runtime (which should have \u003e12G System RAM and ~15G GPU RAM) since you will finetune the GPT-2 model."
      ]
    },
    {
      "cell_type": "markdown",
      "metadata": {
        "id": "-sj3HvNcJEgC"
      },
      "source": [
        "# Set Up\n",
        "\n",
        "We first install required python packages."
      ]
    },
    {
      "cell_type": "markdown",
      "metadata": {
        "id": "73c9sPckJFSi"
      },
      "source": [
        "## Upgrade Pip\n",
        "To avoid upgrading Pip in a system when running locally, check to make sure that we are running in Colab. Local systems can of course be upgraded separately."
      ]
    },
    {
      "cell_type": "code",
      "execution_count": null,
      "metadata": {
        "id": "45pIxa6afWOf"
      },
      "outputs": [],
      "source": [
        "try:\n",
        "  import colab\n",
        "  !pip install --upgrade pip\n",
        "\n",
        "except:\n",
        "  pass"
      ]
    },
    {
      "cell_type": "markdown",
      "metadata": {
        "id": "csKZz9fzRH48"
      },
      "source": [
        "## Install required libraries"
      ]
    },
    {
      "cell_type": "code",
      "execution_count": null,
      "metadata": {
        "id": "YPUASrlMSBSG"
      },
      "outputs": [],
      "source": [
        "!pip install -U tfx"
      ]
    },
    {
      "cell_type": "code",
      "execution_count": null,
      "metadata": {
        "id": "A6mBN4dzfct7"
      },
      "outputs": [],
      "source": [
        "!pip install git+https://github.com/keras-team/keras-nlp.git@google-io-2023 tensorflow-text==2.12 tensorflow_datasets more_itertools"
      ]
    },
    {
      "cell_type": "markdown",
      "metadata": {
        "id": "UjcN5nixJVUW"
      },
      "source": [
        "## Uninstall shapely\n",
        "\n",
        "TODO(b/263441833) This is a temporal solution to avoid an ImportError. Ultimately, it should be handled by supporting a recent version of Bigquery, instead of uninstalling other extra dependencies.\n"
      ]
    },
    {
      "cell_type": "code",
      "execution_count": null,
      "metadata": {
        "id": "BFucUjUmfm3z"
      },
      "outputs": [],
      "source": [
        "!pip uninstall shapely -y"
      ]
    },
    {
      "cell_type": "markdown",
      "metadata": {
        "id": "V0tnFDm6JRq_"
      },
      "source": [
        "## Did you restart the runtime?\n",
        "\n",
        "If you are using Google Colab, the first time that you run the cell above, you must restart the runtime by clicking above \"RESTART RUNTIME\" button or using \"Runtime \u003e Restart runtime ...\" menu. This is because of the way that Colab loads packages. Check the TensorFlow and TFX versions.\n"
      ]
    },
    {
      "cell_type": "code",
      "execution_count": null,
      "metadata": {
        "id": "rUqwD3eXfkmX"
      },
      "outputs": [],
      "source": [
        "import tfx\n",
        "from tensorflow import keras\n",
        "from tfx.types import Channel"
      ]
    },
    {
      "cell_type": "markdown",
      "metadata": {
        "id": "ng1a9cCAtepl"
      },
      "source": [
        "##Installing Interactive Context"
      ]
    },
    {
      "cell_type": "markdown",
      "metadata": {
        "id": "k7ikXCc7v7Rh"
      },
      "source": [
        "An interactive context is used to provide global context when running a TFX pipeline in a notebook without using a runner or orchestrator such as Apache Airflow or Kubeflow. This style of development is only useful when developing the code for a pipeline, and cannot currently be used to deploy a working pipeline to production."
      ]
    },
    {
      "cell_type": "code",
      "execution_count": null,
      "metadata": {
        "id": "TEge2nYDfwaM"
      },
      "outputs": [],
      "source": [
        "from tfx.orchestration.experimental.interactive.interactive_context import InteractiveContext\n",
        "context = InteractiveContext()"
      ]
    },
    {
      "cell_type": "markdown",
      "metadata": {
        "id": "GnDTqqP-JX2s"
      },
      "source": [
        "Let's check the library versions."
      ]
    },
    {
      "cell_type": "code",
      "execution_count": null,
      "metadata": {
        "id": "Hf5FbRzcfpMg"
      },
      "outputs": [],
      "source": [
        "import tensorflow as tf\n",
        "print('TensorFlow version: {}'.format(tf.__version__))\n",
        "from tfx import v1 as tfx\n",
        "print('TFX version: {}'.format(tfx.__version__))"
      ]
    },
    {
      "cell_type": "markdown",
      "metadata": {
        "id": "GF6Kk3MLxxCC"
      },
      "source": [
        "# Pipeline Overview\n",
        "\n",
        "Below is a diagram that illustrates the pipeline that this Colab Notebook follows.\n",
        "\n",
        "* **Artifacts** are data that is produced by a component or consumed by a component. Artifacts are stored in a system for managing the storage and versioning of artifacts.\n",
        "* **Components** are defined as the implementation of an ML task that you can use as a step in your pipeline\n",
        "* Aside from artifacts, **parameters** are passed into the components to specify an argument.\n"
      ]
    },
    {
      "cell_type": "markdown",
      "metadata": {
        "id": "Tod3eYJL1xAG"
      },
      "source": [
        "![Standardized Pipeline Experimentation Documentation  (1).jpg](data:image/jpeg;base64,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)"
      ]
    },
    {
      "cell_type": "markdown",
      "metadata": {
        "id": "b1beRA-GJezL"
      },
      "source": [
        "# CSV Downloader\n",
        "In order to make the pipeline more efficient and possible for automation, it is useful to have a component that takes in a download link to the CSV file to be downloaded. Furthermore, one important goal of TFX production ML pipeline is to collect metadata containing information about the pipeline components, their executions, and resulting artifacts. In other words, the purpose of the metadata is to analyze the lineage of pipeline components and debug issues, and the CSV Downloader Component would help the users logging and tracking information about the source of the data and the preprocessing steps that the data have undergone before entering the pipeline. In this section, we declare a new artifact called CSVdoc and develop a custom component (CSV Downloader) which stores information about the dataset and downloads the CSV file in the CSVdoc artifact's URI."
      ]
    },
    {
      "cell_type": "code",
      "execution_count": null,
      "metadata": {
        "id": "lRjvSFYQfrGo"
      },
      "outputs": [],
      "source": [
        "from tfx import types\n",
        "from tfx.types import artifact\n",
        "\n",
        "Property = artifact.Property\n",
        "PropertyType = artifact.PropertyType\n",
        "PropertyType = artifact.PropertyType\n",
        "\n",
        "URL_PROPERTY = Property(type=PropertyType.STRING)\n",
        "PATH_PROPERTY = Property(type=PropertyType.STRING)\n",
        "\n",
        "\n",
        "class CsvDoc(types.Artifact):\n",
        "  \"\"\"Artifact that contains the CSV dataset.\n",
        "\n",
        "  - 'url' : saves the source of the original data.\n",
        "  - 'path': saves the path to the CSV file.\n",
        "  \"\"\"\n",
        "\n",
        "  TYPE_NAME = 'CsvDoc'\n",
        "  PROPERTIES = {\n",
        "      'url': URL_PROPERTY,\n",
        "      'path': PATH_PROPERTY,\n",
        "  }"
      ]
    },
    {
      "cell_type": "code",
      "execution_count": null,
      "metadata": {
        "id": "qFJ092Erfscv"
      },
      "outputs": [],
      "source": [
        "import os\n",
        "from absl import logging\n",
        "import requests\n",
        "\n",
        "\n",
        "@tfx.dsl.components.component\n",
        "def CsvDownloaderComponent(\n",
        "    url: tfx.dsl.components.Parameter[str],\n",
        "    file_name: tfx.dsl.components.Parameter[str],\n",
        "    saved_file: tfx.dsl.components.OutputArtifact[CsvDoc],\n",
        ") -\u003e None:\n",
        "  \"\"\"Downloads a csv file from a url and saves the result to a CSVfile.\n",
        "\n",
        "  Args:\n",
        "    url: Link for downloading the desired CSV file.\n",
        "    file_name: Name of the downloaded CSV file.\n",
        "\n",
        "  Raises:\n",
        "    ValueError: If the CSV file failed to be downloaded.\n",
        "  \"\"\"\n",
        "  response = requests.get(url)\n",
        "  saved_file.url = url\n",
        "  if response.status_code == 200:\n",
        "    file_path = os.path.join(saved_file.uri, file_name)\n",
        "    saved_file.path = file_path\n",
        "    url_content = response.content\n",
        "    with open(file_path, 'wb') as csv_file:\n",
        "      csv_file.write(url_content)\n",
        "    logging.info(f'CSV file saved successfully at {file_path}')\n",
        "  else:\n",
        "    raise ValueError('CSV file failed to be saved.')"
      ]
    },
    {
      "cell_type": "markdown",
      "metadata": {
        "id": "ft9VB9KNOhco"
      },
      "source": [
        "## About CNN DailyMail Dataset\n",
        " **CNN/DailyMail dataset** is a large English-language dataset of news articles that can be used for both extractive and abstractive summarization. The original version was created for machine reading comprehension and abstractive question answering, but the current version supports both tasks.\n",
        "\n",
        "In this tutorial, the url provided in the cell below is the trimmed version of [Kaggle](https://www.kaggle.com/datasets/gowrishankarp/newspaper-text-summarization-cnn-dailymail)'s train dataset. This link is a direct download link to the dataset."
      ]
    },
    {
      "cell_type": "code",
      "execution_count": null,
      "metadata": {
        "id": "p1ZMILRDfuXr"
      },
      "outputs": [],
      "source": [
        "downloader = CsvDownloaderComponent(\n",
        "    url='https://drive.google.com/uc?id=1YdZsJlRafqxiNSl0nHQkwR7rzrNlN9LI\u0026export=download',\n",
        "    file_name='all.csv',\n",
        ")"
      ]
    },
    {
      "cell_type": "code",
      "execution_count": null,
      "metadata": {
        "id": "sThqBhT3fxqd"
      },
      "outputs": [],
      "source": [
        "context.run(downloader, enable_cache=False)"
      ]
    },
    {
      "cell_type": "markdown",
      "metadata": {
        "id": "TdF3NbXlJsGb"
      },
      "source": [
        "# Preprocessor\n",
        "\n",
        "As a second component of the LLM pipeline, this component takes in a CSV artifact as its input and ouputs a CsvDoc artifact, a custom artifact created in the previous step. We apply NLTK Tokenizer in this step as well to tokenize a single long text into a list of tokenized sentences.\n",
        "\n",
        "First, let's install nltk, package with the sentence tokenizer 'punkt'."
      ]
    },
    {
      "cell_type": "code",
      "execution_count": null,
      "metadata": {
        "id": "z2XQscIMJlqu"
      },
      "outputs": [],
      "source": [
        "!pip install nltk"
      ]
    },
    {
      "cell_type": "code",
      "execution_count": null,
      "metadata": {
        "id": "S3rUC3wKJw4F"
      },
      "outputs": [],
      "source": [
        "import nltk\n",
        "nltk.download('punkt')"
      ]
    },
    {
      "cell_type": "code",
      "execution_count": null,
      "metadata": {
        "id": "OZyqvvbon0wk"
      },
      "outputs": [],
      "source": [
        "from typing import Sequence\n",
        "from nltk import tokenize\n",
        "import pandas as pd\n",
        "\n",
        "\n",
        "def merge_sentences(sentences: Sequence, max_length: int) -\u003e list:\n",
        "  \"\"\"Merge individual sentences into longer context.\n",
        "\n",
        "  Args:\n",
        "    sentences: List of texts from training file.\n",
        "    max_length: Maximum length to which the sentences will be merged up to.\n",
        "\n",
        "  Returns:\n",
        "    List of preprocessed texts.\n",
        "  \"\"\"\n",
        "  res = []\n",
        "  cur_len = 0\n",
        "  cur_sentences = []\n",
        "  for s in sentences:\n",
        "    if cur_len + len(s) \u003e max_length:\n",
        "      res.append(\" \".join(cur_sentences))\n",
        "      cur_len = len(s)\n",
        "      cur_sentences = [s]\n",
        "    else:\n",
        "      cur_len += len(s)\n",
        "      cur_sentences.append(s)\n",
        "  res.append(\" \".join(cur_sentences))\n",
        "  return res\n",
        "\n",
        "\n",
        "def preprocess(articles: Sequence) -\u003e list:\n",
        "  \"\"\"Preprocesses training texts and returns preprocessed texts in a dataframe.\n",
        "\n",
        "  Args:\n",
        "    articles: Sequence of articles for training.\n",
        "\n",
        "  Returns:\n",
        "    List of preprocessed texts.\n",
        "  \"\"\"\n",
        "  all_sentences = []\n",
        "  num_articles_to_process = 500\n",
        "  max_length = 512\n",
        "  for i in range(min(len(articles), num_articles_to_process)):\n",
        "    # Use NLTK tokenize to split articles into sentences\n",
        "    sentences = tokenize.sent_tokenize(str(articles[i]))\n",
        "    # Merge individual sentences into longer context\n",
        "    combined_res = merge_sentences(sentences, max_length)\n",
        "    # Add merged context into collection\n",
        "    all_sentences.extend(combined_res)\n",
        "  return all_sentences\n",
        "\n",
        "\n",
        "@tfx.dsl.components.component\n",
        "def Preprocessor(\n",
        "    saved_file: tfx.dsl.components.InputArtifact[CsvDoc],\n",
        "    preprocessed_file: tfx.dsl.components.OutputArtifact[CsvDoc],\n",
        ") -\u003e None:\n",
        "  \"\"\"Preprocesses texts from the dataset into a list of sentences.\n",
        "\n",
        "  Loads a CSV document from the CSV artifact, output from the CSV downloader\n",
        "  component, and preprocesses it into a list of sentences. It then generates\n",
        "  a CSV containing preprocessed texts.\n",
        "\n",
        "  Args:\n",
        "    saved_file: CsvDoc artifact containing text data that will be used for\n",
        "      training.\n",
        "  \"\"\"\n",
        "  with open(saved_file.path, \"r\") as f:\n",
        "    df = pd.read_csv(f, delimiter=\",\")\n",
        "  preprocessed_text = preprocess(df[\"article\"])\n",
        "  column_value = \"preprocessed_text\"\n",
        "  preprocessed_df = pd.DataFrame(data=preprocessed_text, columns=[column_value])\n",
        "  preprocessed_path = f\"{preprocessed_file.uri}/processed_data.csv\"\n",
        "  preprocessed_file.path = preprocessed_path\n",
        "  preprocessed_df.to_csv(preprocessed_path, index=False)"
      ]
    },
    {
      "cell_type": "code",
      "execution_count": null,
      "metadata": {
        "id": "zl2cXpwtohxj"
      },
      "outputs": [],
      "source": [
        "preprocessor = Preprocessor(saved_file=downloader.outputs[\"saved_file\"])"
      ]
    },
    {
      "cell_type": "code",
      "execution_count": null,
      "metadata": {
        "id": "U-jd0K69o6lw"
      },
      "outputs": [],
      "source": [
        "context.run(preprocessor, enable_cache=False)"
      ]
    },
    {
      "cell_type": "markdown",
      "metadata": {
        "id": "V07XRJv_KQ44"
      },
      "source": [
        "# ExampleGenerator\n",
        "\n",
        "In the CustomExampleGen component, we will create a standard Examples artifact. With this standard Examples artifact, we can use standard components, such as StatisticsGen, SchemaGen, and Example_Validator.\n",
        "\n",
        "The code for CustomExampleGen demonstrates how to *incorporate custom components and artifacts with standard artifacts*. As this LLM pipeline illustrates, standard components and artifacts *might not be the best way* to perform each step of MLOPS process. For example, in this tutorial, we needed a preprocessing component before the exampleGen to preprocess the raw texts that have not been transformed into tensors. Therefore, it is *useful* to know how to incorporate standard artifacts with custom components and artifacts.\n"
      ]
    },
    {
      "cell_type": "markdown",
      "metadata": {
        "id": "szc8SMJ64aIT"
      },
      "source": [
        "The cell below contains helper functions for generating standard Examples artifact. The standard Examples artifact expects train and test data, and therefore, the function *'split data'* creates a test and training data.\n",
        "The function *'write_examples'* writes a file into TFRecords format because within the pipeline, when the TFX components are sequentially executed, the data in between components are shared in **TFRecord format**.\n"
      ]
    },
    {
      "cell_type": "code",
      "execution_count": null,
      "metadata": {
        "id": "8JnNLADyIBa8"
      },
      "outputs": [],
      "source": [
        "import csv\n",
        "import os\n",
        "import random\n",
        "from typing import List\n",
        "import tensorflow as tf\n",
        "import tfx.v1 as tfx\n",
        "\n",
        "random.seed(10)\n",
        "\n",
        "\n",
        "def split_data(dir: str, train_fraction: float):\n",
        "  \"\"\"Splits the data in the CSV file into a training set and a test set.\n",
        "\n",
        "  Args:\n",
        "    dir: The directory to the CSV file to be splitted into test and training.\n",
        "    train_fraction: The fraction of the data to use for the training set.\n",
        "\n",
        "  Returns:\n",
        "    A tuple of the training data and the test data.\n",
        "  \"\"\"\n",
        "  with open(dir, \"r\") as f:\n",
        "    reader = csv.reader(f)\n",
        "    data = list(reader)[1:]\n",
        "\n",
        "  random.shuffle(data)\n",
        "  train_size = int(len(data) * train_fraction)\n",
        "  train_data = data[:train_size]\n",
        "  flatten_train_data = [item for items in train_data for item in items]\n",
        "\n",
        "  test_data = data[train_size:]\n",
        "  flatten_test_data = [item for items in test_data for item in items]\n",
        "\n",
        "  return flatten_train_data, flatten_test_data\n",
        "\n",
        "\n",
        "def write_examples(path_to_file: str, data: List[str]) -\u003e None:\n",
        "  \"\"\"Saves a file in TFRecord format.\n",
        "\n",
        "  Takes a path to a file and a list of strings as input, and writes the strings\n",
        "  to the file in TFRecord format.\n",
        "\n",
        "  Args:\n",
        "    path_to_file: The path to the file to write the examples to.\n",
        "    data: A list of strings to write to the file.\n",
        "  \"\"\"\n",
        "  with tf.io.TFRecordWriter(\n",
        "      os.path.join(path_to_file, \"tfrecord_doc.tfrecord\")\n",
        "  ) as writer_train:\n",
        "    for article in data:\n",
        "      example = tf.train.Example()\n",
        "      features = example.features.feature\n",
        "      features[\"article\"].bytes_list.value.append(article.encode(\"utf-8\"))\n",
        "      writer_train.write(example.SerializeToString())"
      ]
    },
    {
      "cell_type": "code",
      "execution_count": null,
      "metadata": {
        "id": "HC9Hnn6-4WUS"
      },
      "outputs": [],
      "source": [
        "@tfx.dsl.components.component\n",
        "def CustomExampleGen(\n",
        "    input_csv: tfx.dsl.components.InputArtifact[CsvDoc],\n",
        "    examples: tfx.dsl.components.OutputArtifact[\n",
        "        tfx.types.standard_artifacts.Examples\n",
        "    ],\n",
        "    training_fraction: float = 0.74,\n",
        ") -\u003e None:\n",
        "  path_to_train = os.path.join(examples.uri, \"Split-train\")\n",
        "  path_to_test = os.path.join(examples.uri, \"Split-test\")\n",
        "  train_data, test_data = split_data(\n",
        "      os.path.join(input_csv.uri, \"processed_data.csv\"), training_fraction\n",
        "  )\n",
        "  if os.path.exists(path_to_train):\n",
        "    os.rmdir(path_to_train)\n",
        "  if os.path.exists(path_to_test):\n",
        "    os.rmdir(path_to_test)\n",
        "  os.mkdir(path_to_train)\n",
        "  os.mkdir(path_to_test)\n",
        "  write_examples(path_to_train, train_data)\n",
        "  write_examples(path_to_test, test_data)\n",
        "\n",
        "  examples.split_names = '[\"train\", \"test\"]'"
      ]
    },
    {
      "cell_type": "code",
      "execution_count": null,
      "metadata": {
        "id": "KTXPC3gY5Dd9"
      },
      "outputs": [],
      "source": [
        "example_gen = CustomExampleGen(\n",
        "    input_csv=preprocessor.outputs['preprocessed_file']\n",
        ")"
      ]
    },
    {
      "cell_type": "code",
      "execution_count": null,
      "metadata": {
        "id": "wjwFP1mphaFs"
      },
      "outputs": [],
      "source": [
        "context.run(example_gen, enable_cache=False)"
      ]
    },
    {
      "cell_type": "markdown",
      "metadata": {
        "id": "bI8JC1K7394v"
      },
      "source": [
        "Now that we have standard Exmaples artifact, we can pass it as an input for StatisticsGen, SchemaGen, and ExampleValidator, which are components that are useful for preparing data and understanding their properties / characteristics."
      ]
    },
    {
      "cell_type": "markdown",
      "metadata": {
        "id": "gVmx7JHK8RkO"
      },
      "source": [
        "# Statistics Generator\n",
        "\n",
        "**StatisticsGen** generates statistics about the data, such as the number of examples, the number of features, and the data types of the features.\n",
        "\n",
        "Note that the statistics generator is appropriate for tabular data, and therefore, text dataset for this LLM tutorial may not be the optimal dataset for the analysis with statistics generator."
      ]
    },
    {
      "cell_type": "code",
      "execution_count": null,
      "metadata": {
        "id": "TzeNGNEnyq_d"
      },
      "outputs": [],
      "source": [
        "from tfx.components import StatisticsGen"
      ]
    },
    {
      "cell_type": "code",
      "execution_count": null,
      "metadata": {
        "id": "xWWl7LeRKsXA"
      },
      "outputs": [],
      "source": [
        "statistics_gen = tfx.components.StatisticsGen(\n",
        "    examples=example_gen.outputs['examples'], exclude_splits=['eval']\n",
        ")\n",
        "context.run(statistics_gen, enable_cache=False)"
      ]
    },
    {
      "cell_type": "code",
      "execution_count": null,
      "metadata": {
        "id": "LnWKjMyIVVB7"
      },
      "outputs": [],
      "source": [
        "context.show(statistics_gen.outputs['statistics'])"
      ]
    },
    {
      "cell_type": "markdown",
      "metadata": {
        "id": "oqXFJyoO9O8-"
      },
      "source": [
        "# SchemaGen\n",
        "\n",
        "SchemaGen infers a schema from the data. A schema is a description of the data, which includes the names of the features, the data types of the features, and any other constraints on the data.\n"
      ]
    },
    {
      "cell_type": "code",
      "execution_count": null,
      "metadata": {
        "id": "PpPFaV6tX5wQ"
      },
      "outputs": [],
      "source": [
        "schema_gen = tfx.components.SchemaGen(\n",
        "    statistics=statistics_gen.outputs['statistics'],\n",
        "    infer_feature_shape=False,\n",
        "    exclude_splits=['eval'],\n",
        ")\n",
        "context.run(schema_gen, enable_cache=False)"
      ]
    },
    {
      "cell_type": "code",
      "execution_count": null,
      "metadata": {
        "id": "H6DNNUi3YAmo"
      },
      "outputs": [],
      "source": [
        "context.show(schema_gen.outputs['schema'])"
      ]
    },
    {
      "cell_type": "markdown",
      "metadata": {
        "id": "GDdpADUb9VJR"
      },
      "source": [
        "# ExampleValidator\n",
        "\n",
        "ExampleValidator validates the data against the schema and ensures that the data are consistent and consistent."
      ]
    },
    {
      "cell_type": "code",
      "execution_count": null,
      "metadata": {
        "id": "S_F5pLZ7YdZg"
      },
      "outputs": [],
      "source": [
        "example_validator = tfx.components.ExampleValidator(\n",
        "    statistics=statistics_gen.outputs['statistics'],\n",
        "    schema=schema_gen.outputs['schema'],\n",
        "    exclude_splits=['eval'],\n",
        ")\n",
        "context.run(example_validator, enable_cache=False)"
      ]
    },
    {
      "cell_type": "code",
      "execution_count": null,
      "metadata": {
        "id": "3eAHpc2UYfk_"
      },
      "outputs": [],
      "source": [
        "context.show(example_validator.outputs['anomalies'])"
      ]
    },
    {
      "cell_type": "markdown",
      "metadata": {
        "id": "mJll-vDn_eJP"
      },
      "source": [
        "# Trainer\n",
        "\n",
        "Trainer component trains an ML model, and it requires a model definition code from users.\n",
        "\n",
        "The run_fn function in TFX's Trainer component is the entry point for training a machine learning model. It is a user-supplied function that takes in a set of arguments and returns a model artifact.\n",
        "\n",
        "The run_fn function is responsible for:\n",
        "\n",
        "*   Building the machine learning model.\n",
        "*   Training the model on the training data.\n",
        "*   Saving the trained model to the serving model directory.\n",
        "\n",
        "\n",
        "## Write model training code\n",
        "You will create a very simple fine-tuned model, with the preprocessing GPT-2 model. First, we need to create a module that contains the run_fn function for TFX Trainer because TFX Trainer expects the run_fn function to be defined in a module.  "
      ]
    },
    {
      "cell_type": "code",
      "execution_count": null,
      "metadata": {
        "id": "G-_kO3Lxp06A"
      },
      "outputs": [],
      "source": [
        "!mkdir modules"
      ]
    },
    {
      "cell_type": "code",
      "execution_count": null,
      "metadata": {
        "id": "OQPtqKG5pmpn"
      },
      "outputs": [],
      "source": [
        "model_file = \"modules/model.py\"\n",
        "model_fn = \"modules.model.run_fn\""
      ]
    },
    {
      "cell_type": "markdown",
      "metadata": {
        "id": "6drMNHJMAk7g"
      },
      "source": [
        "Now, we write the run_fn function:\n",
        "\n",
        "This run_fn function first gets the training data from the fn_args.examples argument. It then gets the schema of the training data from the fn_args.schema argument. Next, it loads finetuned GPT-2 model along with its preprocessor. The model is then trained on the training data using the model.train() method.\n",
        "Finally, the trained model is saved to the fn_args.serving_model_dir argument.\n",
        "\n",
        "\n",
        "Now, we are going to work with Keras NLP's GPT-2 Model! You can learn about the full GPT-2 model implementation in KerasNLP on [GitHub]((https://github.com/keras-team/keras-nlp/blob/master/keras_nlp/models/gpt2/) or can read (and interactively test the model) on [Google IO2023 colab notebook](https://colab.research.google.com/github/tensorflow/codelabs/blob/main/KerasNLP/io2023_workshop.ipynb#scrollTo=81EZQ0D1R8LL ).\n"
      ]
    },
    {
      "cell_type": "code",
      "execution_count": null,
      "metadata": {
        "id": "B-ME_d8i2sTB"
      },
      "outputs": [],
      "source": [
        "import keras_nlp\n",
        "from tensorflow import keras\n",
        "import tensorflow as tf"
      ]
    },
    {
      "cell_type": "code",
      "execution_count": null,
      "metadata": {
        "id": "N9yjLDqHoFb-"
      },
      "outputs": [],
      "source": [
        "%%writefile {model_file}\n",
        "\n",
        "import os\n",
        "import time\n",
        "from absl import logging\n",
        "import keras_nlp\n",
        "import more_itertools\n",
        "import pandas as pd\n",
        "import tensorflow as tf\n",
        "from tensorflow import keras\n",
        "import tfx\n",
        "import tfx.components.trainer.fn_args_utils\n",
        "\n",
        "\n",
        "_EPOCH = 1\n",
        "_BATCH_SIZE = 20\n",
        "_INITIAL_LEARNING_RATE = 5e-5\n",
        "_END_LEARNING_RATE = 0.0\n",
        "\n",
        "\n",
        "def _input_fn(file_pattern: str) -\u003e list:\n",
        "  \"\"\"Retrieves training data and returns a list of articles for training.\n",
        "\n",
        "  For each row in the TFRecordDataset, generated in the previous ExampleGen\n",
        "  component, create a new tf.train.Example object and parse the TFRecord into\n",
        "  the example object. Articles, which are initially in bytes objects, are\n",
        "  decoded into a string.\n",
        "\n",
        "  Args:\n",
        "    file_pattern: Path to the TFRecord file of the training dataset.\n",
        "\n",
        "  Returns:\n",
        "    A list of training articles.\n",
        "\n",
        "  Raises:\n",
        "    FileNotFoundError: If TFRecord dataset is not found in the file_pattern\n",
        "    directory.\n",
        "  \"\"\"\n",
        "  if os.path.basename(file_pattern) == '*':\n",
        "    file_path = os.path.join(\n",
        "        os.path.dirname(file_pattern), 'tfrecord_doc.tfrecord'\n",
        "    )\n",
        "  else:\n",
        "    raise FileNotFoundError(\n",
        "        f\"There is no file in the current directory: '{file_pattern}.\"\n",
        "    )\n",
        "  train_articles = []\n",
        "  parsed_dataset = tf.data.TFRecordDataset([file_path])\n",
        "  for raw_record in parsed_dataset:\n",
        "    example = tf.train.Example()\n",
        "    example.ParseFromString(raw_record.numpy())\n",
        "    train_articles.append(\n",
        "        example.features.feature['article'].bytes_list.value[0].decode('utf-8')\n",
        "    )\n",
        "  return train_articles\n",
        "\n",
        "def run_fn(fn_args: tfx.components.trainer.fn_args_utils.FnArgs) -\u003e None:\n",
        "  \"\"\"Trains the model and outputs the trained model to a the desired location given by FnArgs.\n",
        "\n",
        "  Args:\n",
        "    FnArgs :  Args to pass to user defined training/tuning function(s)\n",
        "  \"\"\"\n",
        "\n",
        "  train_articles =  pd.Series(_input_fn(\n",
        "          fn_args.train_files[0],\n",
        "      ))\n",
        "  tf_train_ds = tf.data.Dataset.from_tensor_slices(train_articles)\n",
        "\n",
        "  gpt2_preprocessor = keras_nlp.models.GPT2CausalLMPreprocessor.from_preset(\n",
        "      'gpt2_base_en',\n",
        "      sequence_length=256,\n",
        "      add_end_token=True,\n",
        "  )\n",
        "  gpt2_lm = keras_nlp.models.GPT2CausalLM.from_preset(\n",
        "      'gpt2_base_en', preprocessor=gpt2_preprocessor\n",
        "  )\n",
        "\n",
        "  processed_ds = (\n",
        "      tf_train_ds.map(gpt2_preprocessor, tf.data.AUTOTUNE)\n",
        "      .batch(_BATCH_SIZE)\n",
        "      .cache()\n",
        "      .prefetch(tf.data.AUTOTUNE)\n",
        "  )\n",
        "\n",
        "  gpt2_lm.include_preprocessing = False\n",
        "\n",
        "  lr = tf.keras.optimizers.schedules.PolynomialDecay(\n",
        "      5e-5,\n",
        "      decay_steps=processed_ds.cardinality() * _EPOCH,\n",
        "      end_learning_rate=0.0,\n",
        "  )\n",
        "  loss = tf.keras.losses.SparseCategoricalCrossentropy(from_logits=True)\n",
        "\n",
        "  gpt2_lm.compile(\n",
        "      optimizer=keras.optimizers.experimental.Adam(lr),\n",
        "      loss=loss,\n",
        "      weighted_metrics=['accuracy'],\n",
        "  )\n",
        "\n",
        "  gpt2_lm.fit(processed_ds, epochs=_EPOCH)\n",
        "  if os.path.exists(fn_args.serving_model_dir):\n",
        "    os.rmdir(fn_args.serving_model_dir)\n",
        "  os.mkdir(fn_args.serving_model_dir)\n",
        "  gpt2_lm.backbone.save_weights(\n",
        "      filepath=os.path.join(fn_args.serving_model_dir, \"model_weights\"), save_format='tf'\n",
        "  )"
      ]
    },
    {
      "cell_type": "code",
      "execution_count": null,
      "metadata": {
        "id": "bnbMFKqc5gfK"
      },
      "outputs": [],
      "source": [
        "trainer = tfx.components.Trainer(\n",
        "    run_fn=model_fn,\n",
        "    examples=example_gen.outputs['examples'],\n",
        "    train_args=tfx.proto.TrainArgs(splits=['train']),\n",
        "    eval_args=tfx.proto.EvalArgs(splits=['train']),\n",
        "    schema=schema_gen.outputs['schema'],\n",
        ")"
      ]
    },
    {
      "cell_type": "code",
      "execution_count": null,
      "metadata": {
        "id": "COCqeu-8CyHN"
      },
      "outputs": [],
      "source": [
        "context.run(trainer, enable_cache=False)"
      ]
    },
    {
      "cell_type": "markdown",
      "metadata": {
        "id": "bVeAWg28KmG0"
      },
      "source": [
        "# TFLite Conversion  \n",
        "\n",
        "We can convert the pretrained model into a TFLite model, which is a specific type of model that is designed to be used on mobile and embedded devices.\n",
        "TFLite models are smaller and faster than their TensorFlow counterparts, making them ideal for use on devices with limited resources.\n",
        "\n",
        "We can optimize the model using quantization. TensorFlow Lite can be used to shrink down the model size and accelerate model inference by mapping an input of continuous values to a discrete set.\n",
        "\n",
        "In this workshop you will use the [post-training dynamic range quantization](https://www.tensorflow.org/lite/performance/post_training_quant) by setting the converter optimization flag to 'tf.lite.Optimize.DEFAULT'. The rest of the conversion process is the same as before.\n",
        "\n",
        "If you are interested in how TFLite works and would like to interactively work with it on colab notebook, you can explore this [Google IO2023 Colab Notebook](https://colab.research.google.com/github/tensorflow/codelabs/blob/main/KerasNLP/io2023_workshop.ipynb#scrollTo=ZVrW3jyVNEH9)"
      ]
    },
    {
      "cell_type": "markdown",
      "metadata": {
        "id": "RsZU7fM4LxJt"
      },
      "source": [
        "We will first create a TFLite artifact in order to save the TFLite model."
      ]
    },
    {
      "cell_type": "code",
      "execution_count": null,
      "metadata": {
        "id": "Mdbs7CirvTwA"
      },
      "outputs": [],
      "source": [
        "from tfx import types\n",
        "from tfx.types import artifact\n",
        "from enum import Enum\n",
        "\n",
        "Property = artifact.Property\n",
        "PropertyType = artifact.PropertyType\n",
        "\n",
        "\n",
        "DURATION_PROPERTY = Property(type=PropertyType.FLOAT)\n",
        "EPOCH_PROPERTY = Property(type=PropertyType.INT)\n",
        "SIZE_PROPERTY = Property(type=PropertyType.INT)\n",
        "QUANTIZED_PROPERTY = Property(type=PropertyType.STRING)\n",
        "\n",
        "class TFLite(types.Artifact):\n",
        "  \"\"\"Artifact that contains the trained model.\n",
        "\n",
        "  * Properties:\n",
        "    - `epoch`: The number of epochs it took to train the model.\n",
        "    - `model_size`: The size of the model\n",
        "    - `train_duration`: The total time elapsed for training and saving\n",
        "       the model in seconds.\n",
        "    - `is_quantized`: A boolean value indicating whether the model is the\n",
        "       quantized TFLite model or not.\n",
        "  \"\"\"\n",
        "\n",
        "  TYPE_NAME = 'TFLite'\n",
        "  PROPERTIES = {\n",
        "      'epoch': EPOCH_PROPERTY,\n",
        "      'model_size': SIZE_PROPERTY,\n",
        "      'conversion_duration': DURATION_PROPERTY,\n",
        "      'is_quantized': QUANTIZED_PROPERTY,\n",
        "        }"
      ]
    },
    {
      "cell_type": "markdown",
      "metadata": {
        "id": "_tw7jZQ2ATLV"
      },
      "source": [
        "We have to initialize the gpt-2 model to ensure that we are working with a base model."
      ]
    },
    {
      "cell_type": "code",
      "execution_count": null,
      "metadata": {
        "id": "rRgh6W3V5XoD"
      },
      "outputs": [],
      "source": [
        "gpt2_tokenizer = keras_nlp.models.GPT2Tokenizer.from_preset(\"gpt2_base_en\")\n",
        "gpt2_preprocessor = keras_nlp.models.GPT2CausalLMPreprocessor.from_preset(\n",
        "    \"gpt2_base_en\",\n",
        "    sequence_length=256,\n",
        "    add_end_token=True,\n",
        ")\n",
        "gpt2_lm = keras_nlp.models.GPT2CausalLM.from_preset(\"gpt2_base_en\", preprocessor=gpt2_preprocessor)"
      ]
    },
    {
      "cell_type": "markdown",
      "metadata": {
        "id": "yDVCfax9_7LF"
      },
      "source": [
        "First, you wrap the generate() function into a TensorFlow concrete function. The @tf.function decorator is used to convert a Python function to a TensorFlow graph function. This can improve the performance of the function by optimizing the TensorFlow operations that are executed.\n"
      ]
    },
    {
      "cell_type": "code",
      "execution_count": null,
      "metadata": {
        "id": "l8KegzORlszj"
      },
      "outputs": [],
      "source": [
        "@tf.function\n",
        "def generate(prompt, max_length):\n",
        "    return gpt2_lm.generate(prompt, max_length)\n",
        "\n",
        "concrete_func = generate.get_concrete_function(tf.TensorSpec([], tf.string), 100)"
      ]
    },
    {
      "cell_type": "code",
      "execution_count": null,
      "metadata": {
        "id": "2fVmWa-AvtnW"
      },
      "outputs": [],
      "source": [
        "\"\"\"A Conversion Component that transforms a trained model into TFLite Model.\n",
        "This is a conversion component that the users can specify whether the model will\n",
        "be quantized or not.\n",
        "\"\"\"\n",
        "import time\n",
        "\n",
        "\n",
        "@tfx.dsl.components.component\n",
        "def Conversion(\n",
        "    trained_model: tfx.dsl.components.InputArtifact[tfx.types.standard_artifacts.Model],\n",
        "    tflite_model: tfx.dsl.components.OutputArtifact[TFLite],\n",
        "    is_quantized: tfx.dsl.components.Parameter[bool]) -\u003e None:\n",
        "\n",
        "    # Creating a tflite model for generate function\n",
        "    start = time.time()\n",
        "    trained_model_dir = os.path.join(trained_model.uri,'Format-Serving', 'model_weights')\n",
        "    gpt2_lm.load_weights(trained_model_dir)\n",
        "    gpt2_lm.jit_compile = False\n",
        "    generate_converter = tf.lite.TFLiteConverter.from_concrete_functions([concrete_func],\n",
        "                                                            gpt2_lm)\n",
        "    generate_converter.target_spec.supported_ops = [\n",
        "        tf.lite.OpsSet.TFLITE_BUILTINS,  # enable TensorFlow Lite ops.\n",
        "        tf.lite.OpsSet.SELECT_TF_OPS,  # enable TensorFlow ops.\n",
        "    ]\n",
        "    generate_converter.allow_custom_ops = True\n",
        "    if is_quantized:\n",
        "      generate_converter.optimizations = [tf.lite.Optimize.DEFAULT]\n",
        "\n",
        "    generate_converter.target_spec.experimental_select_user_tf_ops = [\n",
        "        \"UnsortedSegmentJoin\",\n",
        "        \"UpperBound\",\n",
        "\n",
        "    ]\n",
        "    generate_converter._experimental_guarantee_all_funcs_one_use = True\n",
        "    generate_tflite = generate_converter.convert()\n",
        "    end = time.time()\n",
        "    generate_path = os.path.join(tflite_model.uri, \"quantized_gpt2_generate.tflite\")\n",
        "    with open(generate_path, \"wb\") as f:\n",
        "      f.write(generate_tflite)\n",
        "    # tflite_model.conversion_duration = end - start\n",
        "    # tflite_model.model_size = os.path.getsize(generate_path)\n",
        "\n",
        "\n",
        "    # Creating a tflite model for Runner (needed for calculating perplexity)\n",
        "    runner_converter = tf.lite.TFLiteConverter.from_keras_model(gpt2_lm)\n",
        "    if is_quantized:\n",
        "      runner_converter.optimizations = [tf.lite.Optimize.DEFAULT]\n",
        "    runner_converter.target_spec.supported_ops = [\n",
        "      tf.lite.OpsSet.TFLITE_BUILTINS, # enable TensorFlow Lite ops.\n",
        "      tf.lite.OpsSet.SELECT_TF_OPS # enable TensorFlow ops.\n",
        "    ]\n",
        "    runner_converter.allow_custom_ops = True\n",
        "    runner_converter.target_spec.experimental_select_user_tf_ops = [\"UnsortedSegmentJoin\", \"UpperBound\"]\n",
        "    runner_converter._experimental_guarantee_all_funcs_one_use = True\n",
        "\n",
        "    runner_tflite = runner_converter.convert()\n",
        "    runner_path = os.path.join(tflite_model.uri, \"quantized_gpt2_runner.tflite\")\n",
        "    with open(runner_path, \"wb\") as f:\n",
        "      f.write(runner_tflite)\n",
        "\n",
        "    if is_quantized:\n",
        "      tflite_model.is_quantized = \"QUANTIZED\"\n",
        "    else:\n",
        "      tflite_model.is_quantized = \"UNQUANTIZED\""
      ]
    },
    {
      "cell_type": "markdown",
      "metadata": {
        "id": "ISMl74Tyxjxf"
      },
      "source": [
        "Similarly, let's convert the trained model into a TFLite model by running the Conversion component with parameter 'is_quantized' specified to False."
      ]
    },
    {
      "cell_type": "code",
      "execution_count": null,
      "metadata": {
        "id": "hpk788jnLdGX"
      },
      "outputs": [],
      "source": [
        "tflite_model = Conversion(trained_model = trainer.outputs['model'], is_quantized = False)"
      ]
    },
    {
      "cell_type": "code",
      "execution_count": null,
      "metadata": {
        "id": "qIshT5KMLhPG"
      },
      "outputs": [],
      "source": [
        "context.run(tflite_model, enable_cache = False)"
      ]
    },
    {
      "cell_type": "markdown",
      "metadata": {
        "id": "Mc76WRAmxXlu"
      },
      "source": [
        "Let's convert the trained model into a Quantized TFLite model by running the Conversion component with parameter 'is_quantized' specified to True."
      ]
    },
    {
      "cell_type": "code",
      "execution_count": null,
      "metadata": {
        "id": "FHdd-kn1wVem"
      },
      "outputs": [],
      "source": [
        "quantized_model = Conversion(trained_model = trainer.outputs['model'], is_quantized = True)"
      ]
    },
    {
      "cell_type": "code",
      "execution_count": null,
      "metadata": {
        "id": "PkE9Jr5Z7Knu"
      },
      "outputs": [],
      "source": [
        "context.run(quantized_model, enable_cache = False)"
      ]
    },
    {
      "cell_type": "markdown",
      "metadata": {
        "id": "btljwhMwWeQ9"
      },
      "source": [
        "# Inference and Evaluation\n",
        "\n",
        "Now that we have fine-tuned the model and converted them to a TFlite model, let's test these models to make inferences. We will create a EvaluationMetric artifact since we want to save the inference results.\n"
      ]
    },
    {
      "cell_type": "code",
      "execution_count": null,
      "metadata": {
        "id": "S79afpeeVkwc"
      },
      "outputs": [],
      "source": [
        "from tfx.types import artifact\n",
        "from tfx import types\n",
        "\n",
        "Property = artifact.Property\n",
        "PropertyType = artifact.PropertyType\n",
        "\n",
        "DURATION_PROPERTY = Property(type=PropertyType.FLOAT)\n",
        "EVAL_OUTPUT_PROPERTY = Property(type=PropertyType.STRING)\n",
        "\n",
        "class EvaluationMetric(types.Artifact):\n",
        "  \"\"\"Artifact that contains metrics for a model.\n",
        "\n",
        "  * Properties:\n",
        "\n",
        "     - 'model_prediction_time' : time it took for the model to make predictions\n",
        "     based on the input text.\n",
        "     - 'model_evaluation_output_path' : saves the path to the CSV file that\n",
        "     contains the model's prediction based on the testing inputs.\n",
        "  \"\"\"\n",
        "\n",
        "  TYPE_NAME = 'Evaluation_Metric'\n",
        "  PROPERTIES = {\n",
        "      'model_prediction_time': DURATION_PROPERTY,\n",
        "      'model_evaluation_output_path': EVAL_OUTPUT_PROPERTY,\n",
        "  }"
      ]
    },
    {
      "cell_type": "markdown",
      "metadata": {
        "id": "bg7X_S1lAL7b"
      },
      "source": [
        "Here, we are defining a helper function to run inference with a given input and a TFLite model. Note that here TensorFlow Text ops are registered as custom ops so that the interpreter can run smoothly.\n"
      ]
    },
    {
      "cell_type": "code",
      "execution_count": null,
      "metadata": {
        "id": "XSjmByAAM2OI"
      },
      "outputs": [],
      "source": [
        "from tensorflow.lite.python import interpreter\n",
        "import tensorflow_text as tf_text\n",
        "def run_inference(input, model):\n",
        "  interp = interpreter.InterpreterWithCustomOps(\n",
        "      model_content=model,\n",
        "      custom_op_registerers=tf_text.tflite_registrar.SELECT_TFTEXT_OPS)\n",
        "  interp.get_signature_list()\n",
        "\n",
        "  generator = interp.get_signature_runner('serving_default')\n",
        "  output = generator(prompt=np.array([input]))\n",
        "  output_text = output[\"output_0\"].item(0).decode('utf-8')\n",
        "  return output_text"
      ]
    },
    {
      "cell_type": "markdown",
      "metadata": {
        "id": "pZ8qyPV8cMZI"
      },
      "source": [
        "In order to produce logits with TFLite models, we need to create a separate interpreter such that takes in a TFLite model as input and returns an object defined as \"runner\" that we need later for comupting perplexity for tflite models.\n",
        "\n",
        "\n",
        "The function first creates an interpreter.InterpreterWithCustomOps object, which is a specialized interpreter that can run TFLite models that use custom TensorFlow ops. The interpreter.InterpreterWithCustomOps object is then configured to use the TFText ops.\n",
        "\n",
        "Next, the function resizes the input tensors to the specified size. This is necessary because the default size of input tensors in TFLite models is [1,1]. Finally, the function allocates the tensors in the interpreter and gets the signature list."
      ]
    },
    {
      "cell_type": "code",
      "execution_count": null,
      "metadata": {
        "id": "mGY9_xSywMVz"
      },
      "outputs": [],
      "source": [
        "from tensorflow.lite.python import interpreter\n",
        "def create_runner(tflite_model):\n",
        "  interp = interpreter.InterpreterWithCustomOps(\n",
        "      model_content=tflite_model,\n",
        "      custom_op_registerers=tf_text.tflite_registrar.SELECT_TFTEXT_OPS)\n",
        "\n",
        "  # Need to resize tensor inputs or they will be [1,1]!\n",
        "  interp.resize_tensor_input(0, (1,255))\n",
        "  interp.resize_tensor_input(1, (1,255))\n",
        "  interp.allocate_tensors()\n",
        "\n",
        "  interp.get_signature_list()\n",
        "  runner = interp.get_signature_runner('serving_default')\n",
        "  return runner"
      ]
    },
    {
      "cell_type": "markdown",
      "metadata": {
        "id": "GQ3Wq2Ylb6JF"
      },
      "source": [
        "Below are some helper functions for calculating perplexity, a measure of how well a language model predicts the next word in a sequence. It is calculated by taking the exponential of the negative log likelihood of the observed sequence. A lower perplexity score indicates that the model is more confident in its predictions, which makes it more likely that the model will perform better.\n"
      ]
    },
    {
      "cell_type": "code",
      "execution_count": null,
      "metadata": {
        "id": "tkXaZlsg38jI"
      },
      "outputs": [],
      "source": [
        "\"\"\"This is an evaluation component for the LLM pipeline takes in a\n",
        "\n",
        "standard trainer artifact and outputs a custom evaluation artifact.\n",
        "It displays the evaluation output in the colab notebook.\n",
        "\"\"\"\n",
        "import os\n",
        "import time\n",
        "from typing import Optional\n",
        "from IPython import display\n",
        "import keras_nlp\n",
        "import numpy as np\n",
        "import pandas as pd\n",
        "import tensorflow as tf\n",
        "import tfx.v1 as tfx\n",
        "\n",
        "_TEST_SIZE = 2\n",
        "_INPUT_LENGTH = 25\n",
        "\n",
        "\n",
        "def input_fn(file_pattern: str) -\u003e list:\n",
        "  \"\"\"Retrieves training data and returns a list of articles for training.\n",
        "\n",
        "  Args:\n",
        "    file_pattern: Path to the TFRecord file of the training dataset.\n",
        "\n",
        "  Returns:\n",
        "    A list of test articles\n",
        "\n",
        "  Raises:\n",
        "    FileNotFoundError: If the file path does not exist.\n",
        "  \"\"\"\n",
        "  file_path = os.path.join(file_pattern, 'tfrecord_doc.tfrecord')\n",
        "  if os.path.exists(file_path):\n",
        "    test_articles = []\n",
        "    parsed_dataset = tf.data.TFRecordDataset([file_path])\n",
        "    for raw_record in parsed_dataset:\n",
        "      example = tf.train.Example()\n",
        "      example.ParseFromString(raw_record.numpy())\n",
        "      test_articles.append(\n",
        "          example.features.feature['article']\n",
        "          .bytes_list.value[0]\n",
        "          .decode('utf-8')\n",
        "      )\n",
        "    return test_articles\n",
        "  else:\n",
        "    raise FileNotFoundError(f'File path \"{file_path}\" does not exist.')\n",
        "\n",
        "\n",
        "def trim_sentence(sentence: str, max_words: int = 20):\n",
        "  \"\"\"Trims the sentence to include up to the given number of words.\n",
        "\n",
        "  Args:\n",
        "    sentence: The sentence to trim.\n",
        "    max_words: The maximum number of words to include in the trimmed sentence.\n",
        "\n",
        "  Returns:\n",
        "    The trimmed sentence.\n",
        "  \"\"\"\n",
        "  words = sentence.split(' ')\n",
        "  if len(words) \u003c= max_words:\n",
        "    return sentence\n",
        "  return ' '.join(words[:max_words])"
      ]
    },
    {
      "cell_type": "markdown",
      "metadata": {
        "id": "ypRrAQMpfEFd"
      },
      "source": [
        "![AcpmiifGWmRg4Uw.png](data:image/png;base64,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)"
      ]
    },
    {
      "cell_type": "markdown",
      "metadata": {
        "id": "yo5fvOa9GmzL"
      },
      "source": [
        "One of the useful metrics for evaluating a Large Language Model is **Perplexity**.\n",
        "\n",
        "Perplexity is a measure of how well a language model predicts the next token in a sequence. It is calculated by taking the exponentiation of the average negative log-likelihood of the next token. A lower perplexity score indicates that the language model is better at predicting the next token.\n",
        "\n",
        "This is the *formula* for calculating perplexity.\n",
        "\n",
        " $\\text{Perplexity} = \\exp(-1 * $ Average Negative Log Likelihood $) =\n",
        "  \\exp\\left(-\\frac{1}{T} \\sum_{t=1}^T \\log p(w_t | w_{\u003ct})\\right)$.\n",
        "\n",
        "\n",
        "If you would like to explore how perplexity metrics work, you experiment on this[ colab notebook](https://colab.research.google.com/drive/18LKpcCwvQtfo_TbG2iMI3ru2QQ0HcQGp?usp=sharing)! You can experiment with computing perplexity for both base GPT-2 model and converted TFLite model.\n",
        "\n",
        "In this colab notebook, we calculate perplexity using [Keras_nlp's perplexity](https://keras.io/api/keras_nlp/metrics/perplexity/)."
      ]
    },
    {
      "cell_type": "markdown",
      "metadata": {
        "id": "kNfs9ZplgPAH"
      },
      "source": [
        "**Computing Perplexity for Base GPT-2 Model and Finetuned Model**\n",
        "\n",
        "The code below is the function will be used later in the notebook for computing perplexity for the base GPT-2 model and the finetuned model."
      ]
    },
    {
      "cell_type": "code",
      "execution_count": null,
      "metadata": {
        "id": "27iA8w6-GlSz"
      },
      "outputs": [],
      "source": [
        "def calculate_perplexity(gpt_model, sentence) -\u003e int:\n",
        "  \"\"\"Calculates perplexity of a model given a sentence.\n",
        "\n",
        "  Args:\n",
        "    gpt_model: GPT-2 Language Model\n",
        "    sentence: Sentence that the model's perplexity is calculated upon.\n",
        "\n",
        "  Returns:\n",
        "    A perplexity score.\n",
        "  \"\"\"\n",
        "  gpt2_preprocessor = keras_nlp.models.GPT2CausalLMPreprocessor.from_preset(\n",
        "      'gpt2_base_en',\n",
        "      sequence_length=256,\n",
        "      add_end_token=True,\n",
        "  )\n",
        "  gpt2_lm = keras_nlp.models.GPT2CausalLM.from_preset(\n",
        "      'gpt2_base_en', preprocessor=gpt2_preprocessor\n",
        "  )\n",
        "  gpt2_tokenizer = keras_nlp.models.GPT2Tokenizer.from_preset('gpt2_base_en')\n",
        "  # gpt2_tokenizer([sentence])[0] produces a tensor containing an array of tokens that form the sentence.\n",
        "  tokens = gpt2_tokenizer([sentence])[0].numpy()\n",
        "  # decoded_sentences is an array containing sentences that increase by one token in size.\n",
        "  # e.g. if tokens for a sentence \"I love dogs\" are [\"I\", \"love\", \"dogs\"], then decoded_sentences = [\"I love\", \"I love dogs\"]\n",
        "  decoded_sentences = [gpt2_tokenizer.detokenize([tokens[:i]])[0].numpy() for i in range(1, len(tokens))]\n",
        "  predictions = gpt2_lm.predict(decoded_sentences)\n",
        "  logits = [predictions[i - 1][i] for i in range(1, len(tokens))]\n",
        "  target = tokens[1:].reshape(len(tokens) - 1, 1)\n",
        "  perplexity = keras_nlp.metrics.Perplexity(from_logits=True)\n",
        "  perplexity.update_state(target, logits)\n",
        "  result = perplexity.result()\n",
        "  return result.numpy()\n",
        "\n",
        "def average_perplexity(gpt_model, gpt2_tokenizer, sentences):\n",
        "  perplexity_lst = [calculate_perplexity(gpt_model, sent) for sent in sentences]\n",
        "  return np.mean(perplexity_lst)\n"
      ]
    },
    {
      "cell_type": "markdown",
      "metadata": {
        "id": "1yUSevqBdCiA"
      },
      "source": [
        "**Computing Perplexity for TFLite Models**\n",
        "\n",
        "Similar to the code above for calculating perplexity for the base model and finetuned GPT-2 model, we also write a function that computes perplexity for TFlite models."
      ]
    },
    {
      "cell_type": "code",
      "execution_count": null,
      "metadata": {
        "id": "fisabLslwx2f"
      },
      "outputs": [],
      "source": [
        "def calculate_perplexity_tflite(sentence, runner) -\u003e int:\n",
        "  \"\"\"Calculates perplexity of a TfLite model given a sentence.\n",
        "\n",
        "  Args:\n",
        "    sentence: Sentence that the model's perplexity is calculated upon.\n",
        "    runner: Object that can be used to run the TensorFlow model's serving_default signature.\n",
        "\n",
        "  Returns:\n",
        "    A perplexity score.\n",
        "  \"\"\"\n",
        "\n",
        "  gpt2_tokenizer = keras_nlp.models.GPT2Tokenizer.from_preset('gpt2_base_en')\n",
        "  logits = []\n",
        "  tokens = gpt2_tokenizer([sentence])[0].numpy()\n",
        "  for i in range(1, len(tokens)):\n",
        "    ds = tf.data.Dataset.from_tensor_slices([sentence])\n",
        "    gpt2_preprocessor = keras_nlp.models.GPT2CausalLMPreprocessor.from_preset(\n",
        "        \"gpt2_base_en\",\n",
        "        sequence_length=256,\n",
        "        add_end_token=True,\n",
        "    )\n",
        "    preprocessed_ds = ds.map(gpt2_preprocessor)\n",
        "    _, token_ids, padding_mask = next(iter(preprocessed_ds))\n",
        "    tflite_result = runner(token_ids=tf.expand_dims(token_ids, axis=0), padding_mask=tf.expand_dims(tf.cast(padding_mask, tf.int32), axis=0))\n",
        "    prediction_key = list(tflite_result.keys())[0]\n",
        "    tflite_prediction = tflite_result[prediction_key]\n",
        "    logit = tflite_prediction[0][i]\n",
        "    logits.append(logit)\n",
        "  target = tokens[1:].reshape(len(tokens) - 1, 1)\n",
        "  perplexity = keras_nlp.metrics.Perplexity(from_logits=True)\n",
        "  perplexity.update_state(target, logits)\n",
        "  result = perplexity.result()\n",
        "  return result.numpy()\n",
        "\n",
        "def average_perplexity_tflite(sentences, runner):\n",
        "  perplexity_lst = [calculate_perplexity_tflite(sent, runner) for sent in sentences]\n",
        "  return np.mean(perplexity_lst)"
      ]
    },
    {
      "cell_type": "markdown",
      "metadata": {
        "id": "ELmkaY-ygbog"
      },
      "source": [
        "# Evaluator Component\n",
        "\n",
        "Now that we have all the helper functions required for the Evaluator component, we will define a evaluator component. Evaluator component makes inferences with base, fine-tuned, TFlite, and quantized models, calculates perplexity for all models, and also records inference time. Output of the evaluator component contains information useful for assessing each model."
      ]
    },
    {
      "cell_type": "code",
      "execution_count": null,
      "metadata": {
        "id": "Eb5fD5vzEQJ0"
      },
      "outputs": [],
      "source": [
        "@tfx.dsl.components.component\n",
        "def Evaluation(\n",
        "    examples: tfx.dsl.components.InputArtifact[\n",
        "        tfx.types.standard_artifacts.Examples\n",
        "    ],\n",
        "    trained_model: tfx.dsl.components.InputArtifact[\n",
        "        tfx.types.standard_artifacts.Model\n",
        "    ],\n",
        "    tflite_model: tfx.dsl.components.InputArtifact[TFLite],\n",
        "    quantized_model: tfx.dsl.components.InputArtifact[TFLite],\n",
        "    max_length: tfx.dsl.components.Parameter[int],\n",
        "    evaluation: tfx.dsl.components.OutputArtifact[EvaluationMetric],\n",
        ") -\u003e None:\n",
        "  \"\"\"Makes inferences with base model, finetuned model, TFlite model, and quantized model.\n",
        "\n",
        "  Args:\n",
        "    examples: Standard TFX examples artifacts for retreiving test dataset.\n",
        "    trained_model: Standard TFX trained model artifact finetuned with CNN daily\n",
        "      mail.\n",
        "    tflite_model: Unquantized TFLite model.\n",
        "    quantized_model: Quantized TFLite model.\n",
        "    max_length: Length of the text that the model generates given custom input\n",
        "      statements.\n",
        "    evaluation: An evaluation artifact that saves predicted outcomes of custom\n",
        "      inputs in a csv document and inference speed of the model.\n",
        "  \"\"\"\n",
        "  path = os.path.join(examples.uri, 'Split-test')\n",
        "  test_data = input_fn(path)\n",
        "  evaluation_inputs = [\n",
        "      trim_sentence(article, max_words=_INPUT_LENGTH)\n",
        "      for article in test_data[:_TEST_SIZE]\n",
        "  ]\n",
        "  true_test = [\n",
        "      trim_sentence(article, max_words=max_length)\n",
        "      for article in test_data[:_TEST_SIZE]\n",
        "  ]\n",
        "\n",
        "  # Loading base model, making inference, and calculating perplexity on the base model.\n",
        "  gpt2_preprocessor = keras_nlp.models.GPT2CausalLMPreprocessor.from_preset(\n",
        "      'gpt2_base_en',\n",
        "      sequence_length=256,\n",
        "      add_end_token=True,\n",
        "  )\n",
        "  gpt2_lm = keras_nlp.models.GPT2CausalLM.from_preset(\n",
        "      'gpt2_base_en', preprocessor=gpt2_preprocessor\n",
        "  )\n",
        "  gpt2_tokenizer = keras_nlp.models.GPT2Tokenizer.from_preset('gpt2_base_en')\n",
        "  base_average_perplexity = average_perplexity(\n",
        "      gpt2_lm, gpt2_tokenizer, true_test\n",
        "  )\n",
        "\n",
        "  start_base_model = time.time()\n",
        "  base_evaluation = [\n",
        "      gpt2_lm.generate(input, max_length).numpy().decode('utf-8')\n",
        "      for input in evaluation_inputs\n",
        "  ]\n",
        "  end_base_model = time.time()\n",
        "\n",
        "  # Loading finetuned model and making inferences with the finetuned model.\n",
        "  model_weights = os.path.join(\n",
        "      trained_model.uri, 'Format-Serving', 'model_weights'\n",
        "  )\n",
        "  gpt2_lm.load_weights(model_weights)\n",
        "  trained_model_average_perplexity = average_perplexity(\n",
        "      gpt2_lm, gpt2_tokenizer, true_test\n",
        "  )\n",
        "\n",
        "  start_trained = time.time()\n",
        "  trained_evaluation = [\n",
        "      gpt2_lm.generate(input, max_length).numpy().decode('utf-8')\n",
        "      for input in evaluation_inputs\n",
        "  ]\n",
        "  end_trained = time.time()\n",
        "\n",
        "  # Loading TFLite model and making inference with TFLite model.\n",
        "  with open(\n",
        "      os.path.join(tflite_model.uri, 'quantized_gpt2_generate.tflite'), 'rb'\n",
        "  ) as generate_file:\n",
        "    tflite_model_generate = generate_file.read()\n",
        "  with open(\n",
        "      os.path.join(tflite_model.uri, 'quantized_gpt2_runner.tflite'), 'rb'\n",
        "  ) as runner_file:\n",
        "    tflite_model_runner_file = runner_file.read()\n",
        "  tflite_model_runner = create_runner(tflite_model_runner_file)\n",
        "  tflite_model_average_perplexity = average_perplexity_tflite(\n",
        "      true_test, tflite_model_runner\n",
        "  )\n",
        "\n",
        "  start_tflite = time.time()\n",
        "  tflite_evaluation = [\n",
        "      run_inference(input, tflite_model_generate) for input in evaluation_inputs\n",
        "  ]\n",
        "  end_tflite = time.time()\n",
        "\n",
        "  # Loading quantized model and making inference with Quantized model.\n",
        "  with open(\n",
        "      os.path.join(tflite_model.uri, 'quantized_gpt2_generate.tflite'), 'rb'\n",
        "  ) as generate_file:\n",
        "    quantized_model_generate = generate_file.read()\n",
        "  with open(\n",
        "      os.path.join(tflite_model.uri, 'quantized_gpt2_runner.tflite'), 'rb'\n",
        "  ) as runner_file:\n",
        "    quantized_model_runner_file = runner_file.read()\n",
        "  quantized_model_runner = create_runner(quantized_model_runner_file)\n",
        "  quantized_model_average_perplexity = average_perplexity_tflite(\n",
        "      true_test, quantized_model_runner\n",
        "  )\n",
        "\n",
        "  start_quantized = time.time()\n",
        "  quantized_evaluation = [\n",
        "      run_inference(input, quantized_model_generate)\n",
        "      for input in evaluation_inputs\n",
        "  ]\n",
        "  end_quantized = time.time()\n",
        "\n",
        "  # Building an inference table.\n",
        "  inference_data = {\n",
        "      'input': evaluation_inputs,\n",
        "      'actual_test_output': true_test,\n",
        "      'base_model_prediction': base_evaluation,\n",
        "      'trained_model_prediction': trained_evaluation,\n",
        "      'tflite_evaluation_prediction': tflite_evaluation,\n",
        "      'quantized_model_prediction': quantized_evaluation,\n",
        "  }\n",
        "\n",
        "  models = [\n",
        "      'Base Model',\n",
        "      'Finetuned Model',\n",
        "      'TFLite Model',\n",
        "      'Quantized Model',\n",
        "  ]\n",
        "  inference_time = [\n",
        "      (end_base_model - start_base_model),\n",
        "      (end_trained - start_trained),\n",
        "      (end_tflite - start_tflite),\n",
        "      (end_quantized - start_quantized),\n",
        "  ]\n",
        "  average_inference_time = [time / _TEST_SIZE for time in inference_time]\n",
        "  average_perplexity_lst = [\n",
        "      base_average_perplexity,\n",
        "      trained_model_average_perplexity,\n",
        "      tflite_model_average_perplexity,\n",
        "      quantized_model_average_perplexity,\n",
        "  ]\n",
        "  evaluation_data = {\n",
        "      'Model': models,\n",
        "      'Average Inference Time': average_inference_time,\n",
        "      'Average Perplexity': average_perplexity_lst,\n",
        "  }\n",
        "  evaluation_df = pd.DataFrame(evaluation_data).set_index('Model').transpose()\n",
        "  evaluation_path = os.path.join(evaluation.uri, 'evaluation_output.csv')\n",
        "  evaluation_df.to_csv(evaluation_path, index=False)\n",
        "\n",
        "  inference_df = pd.DataFrame(inference_data)\n",
        "  inference_path = os.path.join(evaluation.uri, 'inference_output.csv')\n",
        "  inference_df.to_csv(inference_path, index=False)\n",
        "  evaluation.model_evaluation_output_path = inference_path"
      ]
    },
    {
      "cell_type": "code",
      "execution_count": null,
      "metadata": {
        "id": "UkC0RrleWP9O"
      },
      "outputs": [],
      "source": [
        "evaluation_model = Evaluation(examples = example_gen.outputs['examples'],  trained_model = trainer.outputs['model'], quantized_model = quantized_model.outputs['tflite_model'], tflite_model = tflite_model.outputs['tflite_model'], max_length = 200)"
      ]
    },
    {
      "cell_type": "code",
      "execution_count": null,
      "metadata": {
        "id": "KQQvbT96XXDT"
      },
      "outputs": [],
      "source": [
        "context.run(evaluation_model, enable_cache = False)"
      ]
    },
    {
      "cell_type": "markdown",
      "metadata": {
        "id": "1c56hCiqM-4M"
      },
      "source": [
        "**Note:**\n",
        "\n",
        "*Average perplexity value for TFLite and Quantized models are indicated as NA since Tflite perplexity calculation is still under development."
      ]
    },
    {
      "cell_type": "markdown",
      "metadata": {
        "id": "Jnak8Uvm6IbJ"
      },
      "source": [
        "# Displaying Evaluation Tables"
      ]
    },
    {
      "cell_type": "code",
      "execution_count": null,
      "metadata": {
        "id": "NVv5F_Ok7Jss"
      },
      "outputs": [],
      "source": [
        "evaluation_path = evaluation_model.outputs[\"evaluation\"]._artifacts[0].uri\n",
        "inference_df = pd.read_csv(os.path.join(evaluation_path, 'inference_output.csv' ))\n",
        "evaluation_df = pd.read_csv(os.path.join(evaluation_path, 'evaluation_output.csv' ))"
      ]
    },
    {
      "cell_type": "code",
      "execution_count": null,
      "metadata": {
        "id": "XvtAnvrm6H-a"
      },
      "outputs": [],
      "source": [
        "  display.display(display.HTML(inference_df.to_html()))\n",
        "  display.display(display.HTML(evaluation_df.to_html()))"
      ]
    },
    {
      "cell_type": "markdown",
      "metadata": {
        "id": "RiCy6OQ7J3C5"
      },
      "source": [
        "# Running the Entire Pipeline"
      ]
    },
    {
      "cell_type": "markdown",
      "metadata": {
        "id": "kvYtjmkFHSxu"
      },
      "source": [
        "TFX supports multiple orchestrators to run pipelines. In this tutorial we will use LocalDagRunner which is included in the TFX Python package and runs pipelines on local environment. We often call TFX pipelines \"DAGs\" which stands for directed acyclic graph.\n",
        "\n",
        "LocalDagRunner provides fast iterations for development and debugging. TFX also supports other orchestrators including Kubeflow Pipelines and Apache Airflow which are suitable for production use cases.\n",
        "\n",
        "See TFX on Cloud AI Platform Pipelines or TFX Airflow Tutorial to learn more about other orchestration systems.\n",
        "\n",
        "Now we create a LocalDagRunner and pass a Pipeline object created from the function we already defined.\n",
        "\n",
        "The pipeline runs directly and you can see logs for the progress of the pipeline including ML model training."
      ]
    },
    {
      "cell_type": "code",
      "execution_count": null,
      "metadata": {
        "id": "4FQgyxOQLn22"
      },
      "outputs": [],
      "source": [
        "import urllib.request\n",
        "import tempfile\n",
        "import os\n",
        "\n",
        "FILE_URL = 'https://drive.google.com/uc?id=1YdZsJlRafqxiNSl0nHQkwR7rzrNlN9LI\u0026export=download'\n",
        "PIPELINE_NAME = \"cnn-daily-LLM\"\n",
        "model_fn = \"modules.model.run_fn\"\n",
        "\n",
        "# Output directory to store artifacts generated from the pipeline.\n",
        "PIPELINE_ROOT = os.path.join('pipelines', PIPELINE_NAME)\n",
        "# Path to a SQLite DB file to use as an MLMD storage.\n",
        "METADATA_PATH = os.path.join('metadata', PIPELINE_NAME, 'metadata.db')\n",
        "# Output directory where created models from the pipeline will be exported.\n",
        "SERVING_MODEL_DIR = os.path.join('serving_model', PIPELINE_NAME)\n",
        "\n",
        "from absl import logging\n",
        "logging.set_verbosity(logging.INFO)  # Set default logging level."
      ]
    },
    {
      "cell_type": "markdown",
      "metadata": {
        "id": "Q8PG2V3RTrdG"
      },
      "source": [
        "**NOTE:** If you would like to create multiple objects from the same component (as in the case of creating tflite_model and quantized_model from Conversion component in this pipeline), you need to specify the object by '.with_id()'. An example of this practice is in the code below."
      ]
    },
    {
      "cell_type": "code",
      "execution_count": null,
      "metadata": {
        "id": "tgTwBpN-pe3_"
      },
      "outputs": [],
      "source": [
        "def _create_pipeline(\n",
        "    pipeline_name: str,\n",
        "    file_url: str,\n",
        "    pipeline_root: str,\n",
        "    model_fn: str,\n",
        "    serving_model_dir: str,\n",
        "    metadata_path: str,\n",
        ") -\u003e tfx.dsl.Pipeline:\n",
        "  \"\"\"Creates a Pipeline for Fine-Tuning and Converting an Large Language Model with TFX.\"\"\"\n",
        "\n",
        "  # Bringing all components we defined above.\n",
        "  csv_downloader = CsvDownloaderComponent(url=file_url, file_name='dataset.csv')\n",
        "\n",
        "  preprocessor = Preprocessor(saved_file=csv_downloader.outputs['saved_file'])\n",
        "\n",
        "  example_gen = CustomExampleGen(\n",
        "      input_csv=preprocessor.outputs['preprocessed_file']\n",
        "  )\n",
        "\n",
        "  statistics_gen = tfx.components.StatisticsGen(\n",
        "      examples=example_gen.outputs['examples'], exclude_splits=['eval']\n",
        "  )\n",
        "\n",
        "  schema_gen = tfx.components.SchemaGen(\n",
        "      statistics=statistics_gen.outputs['statistics'],\n",
        "      infer_feature_shape=False,\n",
        "      exclude_splits=['eval'],\n",
        "  )\n",
        "\n",
        "  example_validator = tfx.components.ExampleValidator(\n",
        "      statistics=statistics_gen.outputs['statistics'],\n",
        "      schema=schema_gen.outputs['schema'],\n",
        "      exclude_splits=['eval'],\n",
        "  )\n",
        "\n",
        "  trainer = tfx.components.Trainer(\n",
        "      run_fn=model_fn,\n",
        "      examples=example_gen.outputs['examples'],\n",
        "      train_args=tfx.proto.TrainArgs(splits=['train']),\n",
        "      eval_args=tfx.proto.EvalArgs(splits=['train']),\n",
        "      schema=schema_gen.outputs['schema'],\n",
        "  )\n",
        "\n",
        "  quantized_model = Conversion(\n",
        "      trained_model=trainer.outputs['model'], is_quantized=True\n",
        "  ).with_id('quantized model')\n",
        "\n",
        "  tflite_model = Conversion(\n",
        "      trained_model=trainer.outputs['model'], is_quantized=False\n",
        "  ).with_id('tflite model')\n",
        "\n",
        "  evaluation_model = Evaluation(\n",
        "      examples=example_gen.outputs['examples'],\n",
        "      trained_model=trainer.outputs['model'],\n",
        "      quantized_model=quantized_model.outputs['tflite_model'],\n",
        "      tflite_model=tflite_model.outputs['tflite_model'],\n",
        "      max_length=200,\n",
        "  )\n",
        "\n",
        "  # Following ten components will be included in the pipeline.\n",
        "  components = [\n",
        "      csv_downloader,\n",
        "      preprocessor,\n",
        "      example_gen,\n",
        "      statistics_gen,\n",
        "      schema_gen,\n",
        "      example_validator,\n",
        "      trainer,\n",
        "      quantized_model,\n",
        "      tflite_model,\n",
        "      evaluation_model,\n",
        "  ]\n",
        "\n",
        "  return tfx.dsl.Pipeline(\n",
        "      pipeline_name=pipeline_name,\n",
        "      file_url=file_url,\n",
        "      pipeline_root=pipeline_root,\n",
        "      metadata_connection_config=tfx.orchestration.metadata.sqlite_metadata_connection_config(\n",
        "          metadata_path\n",
        "      ),\n",
        "      components=components,\n",
        "  )"
      ]
    },
    {
      "cell_type": "code",
      "execution_count": null,
      "metadata": {
        "id": "DkgLXyZGJ9CO"
      },
      "outputs": [],
      "source": [
        "tfx.orchestration.LocalDagRunner().run(\n",
        "    _create_pipeline(\n",
        "        pipeline_name=PIPELINE_NAME,\n",
        "        file_url=FILE_URL,\n",
        "        pipeline_root=PIPELINE_ROOT,\n",
        "        model_fn=model_fn,\n",
        "        serving_model_dir=SERVING_MODEL_DIR,\n",
        "        metadata_path=METADATA_PATH,\n",
        "    )\n",
        ")"
      ]
    },
    {
      "cell_type": "markdown",
      "metadata": {
        "id": "Mo3Z08xzHa4G"
      },
      "source": [
        "You should see INFO:absl:Component Evaluation is finished.\" at the end of the logs if the pipeline finished successfully because evaluation component is the last component of the pipeline."
      ]
    }
  ],
  "metadata": {
    "accelerator": "GPU",
    "colab": {
      "name": "gpt2_fine_tuning_and_conversion.ipynb",
      "provenance": [],
      "toc_visible": true
    },
    "kernelspec": {
      "display_name": "Python 3",
      "name": "python3"
    }
  },
  "nbformat": 4,
  "nbformat_minor": 0
}
